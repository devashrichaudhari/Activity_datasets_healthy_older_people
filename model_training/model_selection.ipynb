{
 "cells": [
  {
   "cell_type": "markdown",
   "id": "23be6206",
   "metadata": {},
   "source": [
    "### Importing libraries"
   ]
  },
  {
   "cell_type": "code",
   "execution_count": 1,
   "id": "ac17fe37",
   "metadata": {},
   "outputs": [],
   "source": [
    "import pandas as pd\n",
    "import numpy as np\n",
    "import glob\n",
    "import os\n",
    "\n",
    "from sklearn.preprocessing import StandardScaler,LabelEncoder\n",
    "from sklearn.metrics import accuracy_score, precision_score, recall_score, confusion_matrix,roc_curve, roc_auc_score\n",
    "from statsmodels.stats.outliers_influence import variance_inflation_factor \n",
    "from pandas_profiling import ProfileReport\n",
    "from sklearn.model_selection import train_test_split, GridSearchCV\n",
    "from sklearn.linear_model import LogisticRegression\n",
    "from sklearn import metrics\n",
    "from collections import Counter\n",
    "from sklearn.multiclass import OneVsRestClassifier\n",
    "from sklearn.model_selection import cross_val_score\n",
    "\n",
    "from sklearn.neighbors import KNeighborsClassifier\n",
    "from sklearn.model_selection import KFold\n",
    "from sklearn.tree import DecisionTreeClassifier\n",
    "from sklearn.ensemble import RandomForestClassifier\n",
    "from sklearn.svm import SVC\n",
    "\n",
    "import matplotlib.pyplot as plt\n",
    "import seaborn as sns\n",
    "\n",
    "import warnings\n",
    "warnings.filterwarnings('ignore')"
   ]
  },
  {
   "cell_type": "markdown",
   "id": "c0f1aed4",
   "metadata": {},
   "source": [
    "### Load dataset"
   ]
  },
  {
   "cell_type": "code",
   "execution_count": 2,
   "id": "76300586",
   "metadata": {},
   "outputs": [],
   "source": [
    "#  merging the files\n",
    "joined_files_s1 = os.path.join(\"Datasets_Healthy_Older_People\", \"S1_Dataset\", \"d1p*\") \n",
    "joined_files_s2 = os.path.join(\"Datasets_Healthy_Older_People\", \"S2_Dataset\", \"d2p*\")\n",
    "\n",
    "# A list of all joined files is returned\n",
    "joined_list_s1 = glob.glob(joined_files_s1)\n",
    "joined_list_s2 = glob.glob(joined_files_s2)\n",
    "\n",
    "# Addition of both list\n",
    "joined_list_s1_s2 = joined_list_s1 + joined_list_s2\n",
    "\n",
    "#Each csv file is read & converted into a pandas dataframe, concatenated all of the dataframes together and stack them one on top of each other\n",
    "cols_names = ['Time','frontal axis', 'vertical axis', 'lateral axis', 'Id of antenna', 'RSSI', 'Phase', 'Frequency', 'activity']\n",
    "df = pd.concat([pd.read_csv(f, names=cols_names, delimiter=',') for f in joined_list_s1_s2], ignore_index=True)"
   ]
  },
  {
   "cell_type": "markdown",
   "id": "0b295743",
   "metadata": {},
   "source": [
    "### Pandas Profiling Report"
   ]
  },
  {
   "cell_type": "code",
   "execution_count": 3,
   "id": "702534b1",
   "metadata": {},
   "outputs": [],
   "source": [
    "# profile = ProfileReport(df, title=\"Pandas Profiling Report\")\n",
    "# profile"
   ]
  },
  {
   "cell_type": "code",
   "execution_count": 4,
   "id": "65dad71f",
   "metadata": {},
   "outputs": [
    {
     "data": {
      "text/html": [
       "<div>\n",
       "<style scoped>\n",
       "    .dataframe tbody tr th:only-of-type {\n",
       "        vertical-align: middle;\n",
       "    }\n",
       "\n",
       "    .dataframe tbody tr th {\n",
       "        vertical-align: top;\n",
       "    }\n",
       "\n",
       "    .dataframe thead th {\n",
       "        text-align: right;\n",
       "    }\n",
       "</style>\n",
       "<table border=\"1\" class=\"dataframe\">\n",
       "  <thead>\n",
       "    <tr style=\"text-align: right;\">\n",
       "      <th></th>\n",
       "      <th>Time</th>\n",
       "      <th>frontal axis</th>\n",
       "      <th>vertical axis</th>\n",
       "      <th>lateral axis</th>\n",
       "      <th>Id of antenna</th>\n",
       "      <th>RSSI</th>\n",
       "      <th>Phase</th>\n",
       "      <th>Frequency</th>\n",
       "      <th>activity</th>\n",
       "    </tr>\n",
       "  </thead>\n",
       "  <tbody>\n",
       "    <tr>\n",
       "      <th>4616</th>\n",
       "      <td>384.60</td>\n",
       "      <td>1.15140</td>\n",
       "      <td>-0.105650</td>\n",
       "      <td>-0.275950</td>\n",
       "      <td>3</td>\n",
       "      <td>-53.5</td>\n",
       "      <td>0.64887</td>\n",
       "      <td>921.25</td>\n",
       "      <td>3</td>\n",
       "    </tr>\n",
       "    <tr>\n",
       "      <th>56017</th>\n",
       "      <td>478.50</td>\n",
       "      <td>0.99901</td>\n",
       "      <td>-0.025263</td>\n",
       "      <td>-0.104910</td>\n",
       "      <td>3</td>\n",
       "      <td>-60.0</td>\n",
       "      <td>1.67820</td>\n",
       "      <td>923.25</td>\n",
       "      <td>3</td>\n",
       "    </tr>\n",
       "    <tr>\n",
       "      <th>27241</th>\n",
       "      <td>292.88</td>\n",
       "      <td>1.31560</td>\n",
       "      <td>-0.128610</td>\n",
       "      <td>-0.047893</td>\n",
       "      <td>1</td>\n",
       "      <td>-56.0</td>\n",
       "      <td>4.90260</td>\n",
       "      <td>921.25</td>\n",
       "      <td>3</td>\n",
       "    </tr>\n",
       "    <tr>\n",
       "      <th>60254</th>\n",
       "      <td>103.75</td>\n",
       "      <td>1.28040</td>\n",
       "      <td>-0.163060</td>\n",
       "      <td>0.054735</td>\n",
       "      <td>3</td>\n",
       "      <td>-61.0</td>\n",
       "      <td>0.61666</td>\n",
       "      <td>924.75</td>\n",
       "      <td>3</td>\n",
       "    </tr>\n",
       "    <tr>\n",
       "      <th>65413</th>\n",
       "      <td>574.38</td>\n",
       "      <td>0.37756</td>\n",
       "      <td>0.307750</td>\n",
       "      <td>-0.982940</td>\n",
       "      <td>2</td>\n",
       "      <td>-49.0</td>\n",
       "      <td>2.59240</td>\n",
       "      <td>920.75</td>\n",
       "      <td>3</td>\n",
       "    </tr>\n",
       "  </tbody>\n",
       "</table>\n",
       "</div>"
      ],
      "text/plain": [
       "         Time  frontal axis  vertical axis  lateral axis  Id of antenna  RSSI  \\\n",
       "4616   384.60       1.15140      -0.105650     -0.275950              3 -53.5   \n",
       "56017  478.50       0.99901      -0.025263     -0.104910              3 -60.0   \n",
       "27241  292.88       1.31560      -0.128610     -0.047893              1 -56.0   \n",
       "60254  103.75       1.28040      -0.163060      0.054735              3 -61.0   \n",
       "65413  574.38       0.37756       0.307750     -0.982940              2 -49.0   \n",
       "\n",
       "         Phase  Frequency  activity  \n",
       "4616   0.64887     921.25         3  \n",
       "56017  1.67820     923.25         3  \n",
       "27241  4.90260     921.25         3  \n",
       "60254  0.61666     924.75         3  \n",
       "65413  2.59240     920.75         3  "
      ]
     },
     "execution_count": 4,
     "metadata": {},
     "output_type": "execute_result"
    }
   ],
   "source": [
    "df.sample(5)"
   ]
  },
  {
   "cell_type": "code",
   "execution_count": 5,
   "id": "c9751966",
   "metadata": {},
   "outputs": [
    {
     "data": {
      "text/html": [
       "<div>\n",
       "<style scoped>\n",
       "    .dataframe tbody tr th:only-of-type {\n",
       "        vertical-align: middle;\n",
       "    }\n",
       "\n",
       "    .dataframe tbody tr th {\n",
       "        vertical-align: top;\n",
       "    }\n",
       "\n",
       "    .dataframe thead th {\n",
       "        text-align: right;\n",
       "    }\n",
       "</style>\n",
       "<table border=\"1\" class=\"dataframe\">\n",
       "  <thead>\n",
       "    <tr style=\"text-align: right;\">\n",
       "      <th></th>\n",
       "      <th>Time</th>\n",
       "      <th>frontal axis</th>\n",
       "      <th>vertical axis</th>\n",
       "      <th>lateral axis</th>\n",
       "      <th>Id of antenna</th>\n",
       "      <th>RSSI</th>\n",
       "      <th>Phase</th>\n",
       "      <th>Frequency</th>\n",
       "      <th>activity</th>\n",
       "    </tr>\n",
       "  </thead>\n",
       "  <tbody>\n",
       "    <tr>\n",
       "      <th>count</th>\n",
       "      <td>75128.000000</td>\n",
       "      <td>75128.000000</td>\n",
       "      <td>75128.000000</td>\n",
       "      <td>75128.000000</td>\n",
       "      <td>75128.000000</td>\n",
       "      <td>75128.000000</td>\n",
       "      <td>75128.000000</td>\n",
       "      <td>75128.000000</td>\n",
       "      <td>75128.000000</td>\n",
       "    </tr>\n",
       "    <tr>\n",
       "      <th>mean</th>\n",
       "      <td>299.080416</td>\n",
       "      <td>0.714211</td>\n",
       "      <td>0.345199</td>\n",
       "      <td>-0.217477</td>\n",
       "      <td>2.409581</td>\n",
       "      <td>-58.277253</td>\n",
       "      <td>3.157279</td>\n",
       "      <td>922.670536</td>\n",
       "      <td>2.528378</td>\n",
       "    </tr>\n",
       "    <tr>\n",
       "      <th>std</th>\n",
       "      <td>257.503002</td>\n",
       "      <td>0.404585</td>\n",
       "      <td>0.419041</td>\n",
       "      <td>0.438219</td>\n",
       "      <td>1.102165</td>\n",
       "      <td>5.174083</td>\n",
       "      <td>2.182257</td>\n",
       "      <td>1.679093</td>\n",
       "      <td>0.864258</td>\n",
       "    </tr>\n",
       "    <tr>\n",
       "      <th>min</th>\n",
       "      <td>0.000000</td>\n",
       "      <td>-0.748080</td>\n",
       "      <td>-0.553490</td>\n",
       "      <td>-1.336400</td>\n",
       "      <td>1.000000</td>\n",
       "      <td>-72.000000</td>\n",
       "      <td>0.000000</td>\n",
       "      <td>920.250000</td>\n",
       "      <td>1.000000</td>\n",
       "    </tr>\n",
       "    <tr>\n",
       "      <th>25%</th>\n",
       "      <td>121.250000</td>\n",
       "      <td>0.342380</td>\n",
       "      <td>-0.002297</td>\n",
       "      <td>-0.184730</td>\n",
       "      <td>1.000000</td>\n",
       "      <td>-62.000000</td>\n",
       "      <td>1.032400</td>\n",
       "      <td>921.250000</td>\n",
       "      <td>2.000000</td>\n",
       "    </tr>\n",
       "    <tr>\n",
       "      <th>50%</th>\n",
       "      <td>250.715000</td>\n",
       "      <td>0.682420</td>\n",
       "      <td>0.215880</td>\n",
       "      <td>-0.070699</td>\n",
       "      <td>3.000000</td>\n",
       "      <td>-58.000000</td>\n",
       "      <td>2.767300</td>\n",
       "      <td>922.750000</td>\n",
       "      <td>3.000000</td>\n",
       "    </tr>\n",
       "    <tr>\n",
       "      <th>75%</th>\n",
       "      <td>402.500000</td>\n",
       "      <td>1.104500</td>\n",
       "      <td>0.858940</td>\n",
       "      <td>0.031928</td>\n",
       "      <td>3.000000</td>\n",
       "      <td>-56.000000</td>\n",
       "      <td>5.358575</td>\n",
       "      <td>924.250000</td>\n",
       "      <td>3.000000</td>\n",
       "    </tr>\n",
       "    <tr>\n",
       "      <th>max</th>\n",
       "      <td>1739.400000</td>\n",
       "      <td>1.503200</td>\n",
       "      <td>2.030200</td>\n",
       "      <td>1.217800</td>\n",
       "      <td>4.000000</td>\n",
       "      <td>-38.500000</td>\n",
       "      <td>6.281700</td>\n",
       "      <td>925.750000</td>\n",
       "      <td>4.000000</td>\n",
       "    </tr>\n",
       "  </tbody>\n",
       "</table>\n",
       "</div>"
      ],
      "text/plain": [
       "               Time  frontal axis  vertical axis  lateral axis  Id of antenna  \\\n",
       "count  75128.000000  75128.000000   75128.000000  75128.000000   75128.000000   \n",
       "mean     299.080416      0.714211       0.345199     -0.217477       2.409581   \n",
       "std      257.503002      0.404585       0.419041      0.438219       1.102165   \n",
       "min        0.000000     -0.748080      -0.553490     -1.336400       1.000000   \n",
       "25%      121.250000      0.342380      -0.002297     -0.184730       1.000000   \n",
       "50%      250.715000      0.682420       0.215880     -0.070699       3.000000   \n",
       "75%      402.500000      1.104500       0.858940      0.031928       3.000000   \n",
       "max     1739.400000      1.503200       2.030200      1.217800       4.000000   \n",
       "\n",
       "               RSSI         Phase     Frequency      activity  \n",
       "count  75128.000000  75128.000000  75128.000000  75128.000000  \n",
       "mean     -58.277253      3.157279    922.670536      2.528378  \n",
       "std        5.174083      2.182257      1.679093      0.864258  \n",
       "min      -72.000000      0.000000    920.250000      1.000000  \n",
       "25%      -62.000000      1.032400    921.250000      2.000000  \n",
       "50%      -58.000000      2.767300    922.750000      3.000000  \n",
       "75%      -56.000000      5.358575    924.250000      3.000000  \n",
       "max      -38.500000      6.281700    925.750000      4.000000  "
      ]
     },
     "execution_count": 5,
     "metadata": {},
     "output_type": "execute_result"
    }
   ],
   "source": [
    "df.describe()"
   ]
  },
  {
   "cell_type": "code",
   "execution_count": 6,
   "id": "f01d0b37",
   "metadata": {},
   "outputs": [
    {
     "data": {
      "text/plain": [
       "Time             float64\n",
       "frontal axis     float64\n",
       "vertical axis    float64\n",
       "lateral axis     float64\n",
       "Id of antenna      int64\n",
       "RSSI             float64\n",
       "Phase            float64\n",
       "Frequency        float64\n",
       "activity           int64\n",
       "dtype: object"
      ]
     },
     "execution_count": 6,
     "metadata": {},
     "output_type": "execute_result"
    }
   ],
   "source": [
    "df.dtypes"
   ]
  },
  {
   "cell_type": "markdown",
   "id": "27f41f6d",
   "metadata": {},
   "source": [
    "### Imputing missing values"
   ]
  },
  {
   "cell_type": "code",
   "execution_count": 7,
   "id": "e347a6ce",
   "metadata": {},
   "outputs": [
    {
     "data": {
      "text/plain": [
       "Time             0\n",
       "frontal axis     0\n",
       "vertical axis    0\n",
       "lateral axis     0\n",
       "Id of antenna    0\n",
       "RSSI             0\n",
       "Phase            0\n",
       "Frequency        0\n",
       "activity         0\n",
       "dtype: int64"
      ]
     },
     "execution_count": 7,
     "metadata": {},
     "output_type": "execute_result"
    }
   ],
   "source": [
    "df.isna().sum()"
   ]
  },
  {
   "cell_type": "markdown",
   "id": "304a10a2",
   "metadata": {},
   "source": [
    "### Remove outliers"
   ]
  },
  {
   "cell_type": "code",
   "execution_count": 8,
   "id": "c4c2b0e2",
   "metadata": {},
   "outputs": [
    {
     "data": {
      "text/plain": [
       "<AxesSubplot:>"
      ]
     },
     "execution_count": 8,
     "metadata": {},
     "output_type": "execute_result"
    },
    {
     "data": {
      "image/png": "[encoded data removed]",
      "text/plain": [
       "<Figure size 1440x1440 with 1 Axes>"
      ]
     },
     "metadata": {
      "needs_background": "light"
     },
     "output_type": "display_data"
    }
   ],
   "source": [
    "fig, ax = plt.subplots(figsize=(20,20))\n",
    "sns.boxplot(data=df, ax=ax)"
   ]
  },
  {
   "cell_type": "code",
   "execution_count": 9,
   "id": "af00c5e3",
   "metadata": {},
   "outputs": [],
   "source": [
    "# loosing 30% of dataset \n",
    "q = df['Time'].quantile(.70)\n",
    "df_new = df[df['Time'] < q]"
   ]
  },
  {
   "cell_type": "code",
   "execution_count": 10,
   "id": "c38bfe7d",
   "metadata": {},
   "outputs": [],
   "source": [
    "q = df_new['lateral axis'].quantile(.99)\n",
    "df_new = df_new[df_new['lateral axis'] < q]\n",
    "\n",
    "q = df_new['RSSI'].quantile(.98)\n",
    "df_new = df_new[df_new['RSSI'] < q]"
   ]
  },
  {
   "cell_type": "code",
   "execution_count": 11,
   "id": "e4bf34c8",
   "metadata": {},
   "outputs": [
    {
     "data": {
      "text/plain": [
       "<AxesSubplot:>"
      ]
     },
     "execution_count": 11,
     "metadata": {},
     "output_type": "execute_result"
    },
    {
     "data": {
      "image/png": "[encoded data removed]",
      "text/plain": [
       "<Figure size 1440x1440 with 1 Axes>"
      ]
     },
     "metadata": {
      "needs_background": "light"
     },
     "output_type": "display_data"
    }
   ],
   "source": [
    "fig, ax = plt.subplots(figsize=(20,20))\n",
    "sns.boxplot(data=df_new, ax=ax)"
   ]
  },
  {
   "cell_type": "code",
   "execution_count": 12,
   "id": "1a29dbd6",
   "metadata": {},
   "outputs": [
    {
     "name": "stdout",
     "output_type": "stream",
     "text": [
      "(50933, 9)\n",
      "(75128, 9)\n"
     ]
    }
   ],
   "source": [
    "# Total reduction of dataset\n",
    "print(df_new.shape)\n",
    "print(df.shape)"
   ]
  },
  {
   "cell_type": "markdown",
   "id": "7f6762a6",
   "metadata": {},
   "source": [
    "### Split dataset in features and target variable"
   ]
  },
  {
   "cell_type": "code",
   "execution_count": 13,
   "id": "98e676b7",
   "metadata": {},
   "outputs": [],
   "source": [
    "# Features\n",
    "x = df_new.drop(['activity'], axis=1)   \n",
    " # Target variable\n",
    "y = df_new.activity              "
   ]
  },
  {
   "cell_type": "markdown",
   "id": "e93554b8",
   "metadata": {},
   "source": [
    "### For Multicolinearity "
   ]
  },
  {
   "cell_type": "code",
   "execution_count": 14,
   "id": "87da5ff1",
   "metadata": {},
   "outputs": [],
   "source": [
    "def vif_score(x): \n",
    "    scaler = StandardScaler() \n",
    "    arr = scaler.fit_transform(x) \n",
    "    return pd.DataFrame([[x.columns[i], variance_inflation_factor(arr,i)] for i in range(arr.shape[1])], columns=[\"FEATURE\", \"VIF_SCORE\"]) "
   ]
  },
  {
   "cell_type": "code",
   "execution_count": 15,
   "id": "a9290aad",
   "metadata": {},
   "outputs": [
    {
     "data": {
      "text/html": [
       "<div>\n",
       "<style scoped>\n",
       "    .dataframe tbody tr th:only-of-type {\n",
       "        vertical-align: middle;\n",
       "    }\n",
       "\n",
       "    .dataframe tbody tr th {\n",
       "        vertical-align: top;\n",
       "    }\n",
       "\n",
       "    .dataframe thead th {\n",
       "        text-align: right;\n",
       "    }\n",
       "</style>\n",
       "<table border=\"1\" class=\"dataframe\">\n",
       "  <thead>\n",
       "    <tr style=\"text-align: right;\">\n",
       "      <th></th>\n",
       "      <th>FEATURE</th>\n",
       "      <th>VIF_SCORE</th>\n",
       "    </tr>\n",
       "  </thead>\n",
       "  <tbody>\n",
       "    <tr>\n",
       "      <th>0</th>\n",
       "      <td>Time</td>\n",
       "      <td>1.083010</td>\n",
       "    </tr>\n",
       "    <tr>\n",
       "      <th>1</th>\n",
       "      <td>frontal axis</td>\n",
       "      <td>6.118446</td>\n",
       "    </tr>\n",
       "    <tr>\n",
       "      <th>2</th>\n",
       "      <td>vertical axis</td>\n",
       "      <td>5.820114</td>\n",
       "    </tr>\n",
       "    <tr>\n",
       "      <th>3</th>\n",
       "      <td>lateral axis</td>\n",
       "      <td>2.050264</td>\n",
       "    </tr>\n",
       "    <tr>\n",
       "      <th>4</th>\n",
       "      <td>Id of antenna</td>\n",
       "      <td>1.075533</td>\n",
       "    </tr>\n",
       "    <tr>\n",
       "      <th>5</th>\n",
       "      <td>RSSI</td>\n",
       "      <td>1.054382</td>\n",
       "    </tr>\n",
       "    <tr>\n",
       "      <th>6</th>\n",
       "      <td>Phase</td>\n",
       "      <td>1.004239</td>\n",
       "    </tr>\n",
       "    <tr>\n",
       "      <th>7</th>\n",
       "      <td>Frequency</td>\n",
       "      <td>1.022806</td>\n",
       "    </tr>\n",
       "  </tbody>\n",
       "</table>\n",
       "</div>"
      ],
      "text/plain": [
       "         FEATURE  VIF_SCORE\n",
       "0           Time   1.083010\n",
       "1   frontal axis   6.118446\n",
       "2  vertical axis   5.820114\n",
       "3   lateral axis   2.050264\n",
       "4  Id of antenna   1.075533\n",
       "5           RSSI   1.054382\n",
       "6          Phase   1.004239\n",
       "7      Frequency   1.022806"
      ]
     },
     "execution_count": 15,
     "metadata": {},
     "output_type": "execute_result"
    }
   ],
   "source": [
    "vif_score(x)"
   ]
  },
  {
   "cell_type": "markdown",
   "id": "10a6e7c8",
   "metadata": {},
   "source": [
    "### Summarize the class distribution"
   ]
  },
  {
   "cell_type": "code",
   "execution_count": 16,
   "id": "77438b45",
   "metadata": {},
   "outputs": [
    {
     "name": "stdout",
     "output_type": "stream",
     "text": [
      "(50933, 8) (50933,)\n",
      "Counter({3: 30543, 1: 14568, 2: 4406, 4: 1416})\n",
      "Class=3, Count=30543, Percentage=59.967%\n",
      "Class=4, Count=1416, Percentage=2.780%\n",
      "Class=2, Count=4406, Percentage=8.651%\n",
      "Class=1, Count=14568, Percentage=28.602%\n"
     ]
    }
   ],
   "source": [
    "print(x.shape, y.shape)\n",
    "\n",
    "print(Counter(y))\n",
    "\n",
    "counter = Counter(y)\n",
    "for k,v in counter.items():\n",
    "\tper = v / len(y) * 100\n",
    "\tprint('Class=%d, Count=%d, Percentage=%.3f%%' % (k, v, per))"
   ]
  },
  {
   "cell_type": "code",
   "execution_count": 17,
   "id": "3b15782c",
   "metadata": {},
   "outputs": [],
   "source": [
    "### Split x and y into training and testing sets"
   ]
  },
  {
   "cell_type": "code",
   "execution_count": 62,
   "id": "74e45b69",
   "metadata": {},
   "outputs": [],
   "source": [
    "x_train, x_test, y_train, y_test = train_test_split(x ,y, test_size=0.2, random_state=0)"
   ]
  },
  {
   "cell_type": "code",
   "execution_count": 63,
   "id": "feb8421a",
   "metadata": {},
   "outputs": [
    {
     "data": {
      "text/plain": [
       "((40746, 8), (40746,))"
      ]
     },
     "execution_count": 63,
     "metadata": {},
     "output_type": "execute_result"
    }
   ],
   "source": [
    "x_train.shape, y_train.shape"
   ]
  },
  {
   "cell_type": "markdown",
   "id": "2cb75659",
   "metadata": {},
   "source": [
    "### Logistic Regression model"
   ]
  },
  {
   "cell_type": "code",
   "execution_count": 20,
   "id": "717a22b6",
   "metadata": {},
   "outputs": [
    {
     "data": {
      "text/plain": [
       "LogisticRegression(solver='saga')"
      ]
     },
     "execution_count": 20,
     "metadata": {},
     "output_type": "execute_result"
    }
   ],
   "source": [
    "logistic = LogisticRegression(solver='saga')\n",
    "logistic.fit(x_train, y_train)"
   ]
  },
  {
   "cell_type": "code",
   "execution_count": 21,
   "id": "7960caa6",
   "metadata": {},
   "outputs": [
    {
     "data": {
      "text/plain": [
       "0.8336114655934034"
      ]
     },
     "execution_count": 21,
     "metadata": {},
     "output_type": "execute_result"
    }
   ],
   "source": [
    "logistic.score(x_test, y_test)"
   ]
  },
  {
   "cell_type": "code",
   "execution_count": 22,
   "id": "ba486c20",
   "metadata": {},
   "outputs": [
    {
     "data": {
      "text/plain": [
       "array([3, 1, 3, ..., 3, 3, 3])"
      ]
     },
     "execution_count": 22,
     "metadata": {},
     "output_type": "execute_result"
    }
   ],
   "source": [
    "y_pred = logistic.predict(x_test)\n",
    "y_pred"
   ]
  },
  {
   "cell_type": "code",
   "execution_count": 23,
   "id": "6c15ab08",
   "metadata": {},
   "outputs": [
    {
     "data": {
      "text/html": [
       "<div>\n",
       "<style scoped>\n",
       "    .dataframe tbody tr th:only-of-type {\n",
       "        vertical-align: middle;\n",
       "    }\n",
       "\n",
       "    .dataframe tbody tr th {\n",
       "        vertical-align: top;\n",
       "    }\n",
       "\n",
       "    .dataframe thead th {\n",
       "        text-align: right;\n",
       "    }\n",
       "</style>\n",
       "<table border=\"1\" class=\"dataframe\">\n",
       "  <thead>\n",
       "    <tr style=\"text-align: right;\">\n",
       "      <th></th>\n",
       "      <th>y_test</th>\n",
       "      <th>y_pred</th>\n",
       "    </tr>\n",
       "  </thead>\n",
       "  <tbody>\n",
       "    <tr>\n",
       "      <th>3433</th>\n",
       "      <td>1</td>\n",
       "      <td>1</td>\n",
       "    </tr>\n",
       "    <tr>\n",
       "      <th>62132</th>\n",
       "      <td>3</td>\n",
       "      <td>3</td>\n",
       "    </tr>\n",
       "    <tr>\n",
       "      <th>44422</th>\n",
       "      <td>1</td>\n",
       "      <td>1</td>\n",
       "    </tr>\n",
       "    <tr>\n",
       "      <th>17600</th>\n",
       "      <td>3</td>\n",
       "      <td>3</td>\n",
       "    </tr>\n",
       "    <tr>\n",
       "      <th>51124</th>\n",
       "      <td>2</td>\n",
       "      <td>1</td>\n",
       "    </tr>\n",
       "    <tr>\n",
       "      <th>9421</th>\n",
       "      <td>3</td>\n",
       "      <td>3</td>\n",
       "    </tr>\n",
       "    <tr>\n",
       "      <th>47489</th>\n",
       "      <td>3</td>\n",
       "      <td>3</td>\n",
       "    </tr>\n",
       "    <tr>\n",
       "      <th>16969</th>\n",
       "      <td>1</td>\n",
       "      <td>1</td>\n",
       "    </tr>\n",
       "    <tr>\n",
       "      <th>66883</th>\n",
       "      <td>3</td>\n",
       "      <td>3</td>\n",
       "    </tr>\n",
       "    <tr>\n",
       "      <th>41157</th>\n",
       "      <td>3</td>\n",
       "      <td>3</td>\n",
       "    </tr>\n",
       "    <tr>\n",
       "      <th>28876</th>\n",
       "      <td>3</td>\n",
       "      <td>3</td>\n",
       "    </tr>\n",
       "    <tr>\n",
       "      <th>63895</th>\n",
       "      <td>3</td>\n",
       "      <td>3</td>\n",
       "    </tr>\n",
       "    <tr>\n",
       "      <th>3524</th>\n",
       "      <td>3</td>\n",
       "      <td>3</td>\n",
       "    </tr>\n",
       "    <tr>\n",
       "      <th>19903</th>\n",
       "      <td>2</td>\n",
       "      <td>3</td>\n",
       "    </tr>\n",
       "    <tr>\n",
       "      <th>30407</th>\n",
       "      <td>3</td>\n",
       "      <td>3</td>\n",
       "    </tr>\n",
       "    <tr>\n",
       "      <th>2198</th>\n",
       "      <td>3</td>\n",
       "      <td>3</td>\n",
       "    </tr>\n",
       "    <tr>\n",
       "      <th>875</th>\n",
       "      <td>2</td>\n",
       "      <td>1</td>\n",
       "    </tr>\n",
       "    <tr>\n",
       "      <th>56886</th>\n",
       "      <td>3</td>\n",
       "      <td>3</td>\n",
       "    </tr>\n",
       "    <tr>\n",
       "      <th>12555</th>\n",
       "      <td>2</td>\n",
       "      <td>1</td>\n",
       "    </tr>\n",
       "    <tr>\n",
       "      <th>3912</th>\n",
       "      <td>1</td>\n",
       "      <td>1</td>\n",
       "    </tr>\n",
       "  </tbody>\n",
       "</table>\n",
       "</div>"
      ],
      "text/plain": [
       "       y_test  y_pred\n",
       "3433        1       1\n",
       "62132       3       3\n",
       "44422       1       1\n",
       "17600       3       3\n",
       "51124       2       1\n",
       "9421        3       3\n",
       "47489       3       3\n",
       "16969       1       1\n",
       "66883       3       3\n",
       "41157       3       3\n",
       "28876       3       3\n",
       "63895       3       3\n",
       "3524        3       3\n",
       "19903       2       3\n",
       "30407       3       3\n",
       "2198        3       3\n",
       "875         2       1\n",
       "56886       3       3\n",
       "12555       2       1\n",
       "3912        1       1"
      ]
     },
     "execution_count": 23,
     "metadata": {},
     "output_type": "execute_result"
    }
   ],
   "source": [
    "pred_results = pd.DataFrame({'y_test': y_test,\n",
    "                             'y_pred': y_pred})\n",
    "\n",
    "pred_results.sample(20)"
   ]
  },
  {
   "cell_type": "markdown",
   "id": "1e8e047a",
   "metadata": {},
   "source": [
    "### Using Cross validation"
   ]
  },
  {
   "cell_type": "code",
   "execution_count": 26,
   "id": "6caca703",
   "metadata": {},
   "outputs": [],
   "source": [
    "# parameters = {'penalty': ['l1', 'l2', 'elasticnet'], \n",
    "#              'C': [0.1, 0.4, 0.8, 1, 2, 5],\n",
    "#              'solver' : ['newton-cg', 'lbfgs', 'liblinear', 'sag', 'saga']}\n",
    "\n",
    "# grid_search = GridSearchCV(LogisticRegression(), parameters, cv=3, return_train_score=True)\n",
    "\n",
    "# grid_search.fit(x_train, y_train)\n",
    "\n",
    "# grid_search.best_params_"
   ]
  },
  {
   "cell_type": "code",
   "execution_count": 27,
   "id": "85c939eb",
   "metadata": {},
   "outputs": [
    {
     "data": {
      "text/plain": [
       "LogisticRegression(C=5, solver='newton-cg')"
      ]
     },
     "execution_count": 27,
     "metadata": {},
     "output_type": "execute_result"
    }
   ],
   "source": [
    "logistic_model = LogisticRegression(C =5, penalty='l2', solver='newton-cg')\n",
    "logistic_model.fit(x_train, y_train)"
   ]
  },
  {
   "cell_type": "code",
   "execution_count": 28,
   "id": "94db94af",
   "metadata": {},
   "outputs": [
    {
     "data": {
      "text/plain": [
       "0.8983017571414548"
      ]
     },
     "execution_count": 28,
     "metadata": {},
     "output_type": "execute_result"
    }
   ],
   "source": [
    "logistic_model.score(x_test, y_test)"
   ]
  },
  {
   "cell_type": "code",
   "execution_count": 29,
   "id": "7c4b19c8",
   "metadata": {},
   "outputs": [],
   "source": [
    "y_pred = logistic_model.predict(x_test)"
   ]
  },
  {
   "cell_type": "code",
   "execution_count": 30,
   "id": "0deccd62",
   "metadata": {},
   "outputs": [
    {
     "data": {
      "text/html": [
       "<div>\n",
       "<style scoped>\n",
       "    .dataframe tbody tr th:only-of-type {\n",
       "        vertical-align: middle;\n",
       "    }\n",
       "\n",
       "    .dataframe tbody tr th {\n",
       "        vertical-align: top;\n",
       "    }\n",
       "\n",
       "    .dataframe thead th {\n",
       "        text-align: right;\n",
       "    }\n",
       "</style>\n",
       "<table border=\"1\" class=\"dataframe\">\n",
       "  <thead>\n",
       "    <tr style=\"text-align: right;\">\n",
       "      <th></th>\n",
       "      <th>y_test</th>\n",
       "      <th>y_pred</th>\n",
       "    </tr>\n",
       "  </thead>\n",
       "  <tbody>\n",
       "    <tr>\n",
       "      <th>29117</th>\n",
       "      <td>1</td>\n",
       "      <td>1</td>\n",
       "    </tr>\n",
       "    <tr>\n",
       "      <th>36528</th>\n",
       "      <td>1</td>\n",
       "      <td>3</td>\n",
       "    </tr>\n",
       "    <tr>\n",
       "      <th>13873</th>\n",
       "      <td>2</td>\n",
       "      <td>1</td>\n",
       "    </tr>\n",
       "    <tr>\n",
       "      <th>20999</th>\n",
       "      <td>3</td>\n",
       "      <td>3</td>\n",
       "    </tr>\n",
       "    <tr>\n",
       "      <th>24410</th>\n",
       "      <td>4</td>\n",
       "      <td>1</td>\n",
       "    </tr>\n",
       "    <tr>\n",
       "      <th>75003</th>\n",
       "      <td>1</td>\n",
       "      <td>1</td>\n",
       "    </tr>\n",
       "    <tr>\n",
       "      <th>1331</th>\n",
       "      <td>1</td>\n",
       "      <td>1</td>\n",
       "    </tr>\n",
       "    <tr>\n",
       "      <th>49451</th>\n",
       "      <td>3</td>\n",
       "      <td>3</td>\n",
       "    </tr>\n",
       "    <tr>\n",
       "      <th>33777</th>\n",
       "      <td>3</td>\n",
       "      <td>3</td>\n",
       "    </tr>\n",
       "    <tr>\n",
       "      <th>63257</th>\n",
       "      <td>3</td>\n",
       "      <td>3</td>\n",
       "    </tr>\n",
       "    <tr>\n",
       "      <th>39972</th>\n",
       "      <td>3</td>\n",
       "      <td>3</td>\n",
       "    </tr>\n",
       "    <tr>\n",
       "      <th>39581</th>\n",
       "      <td>3</td>\n",
       "      <td>3</td>\n",
       "    </tr>\n",
       "    <tr>\n",
       "      <th>30324</th>\n",
       "      <td>3</td>\n",
       "      <td>3</td>\n",
       "    </tr>\n",
       "    <tr>\n",
       "      <th>35181</th>\n",
       "      <td>1</td>\n",
       "      <td>1</td>\n",
       "    </tr>\n",
       "    <tr>\n",
       "      <th>55225</th>\n",
       "      <td>3</td>\n",
       "      <td>3</td>\n",
       "    </tr>\n",
       "    <tr>\n",
       "      <th>58083</th>\n",
       "      <td>3</td>\n",
       "      <td>3</td>\n",
       "    </tr>\n",
       "    <tr>\n",
       "      <th>13814</th>\n",
       "      <td>3</td>\n",
       "      <td>3</td>\n",
       "    </tr>\n",
       "    <tr>\n",
       "      <th>7081</th>\n",
       "      <td>2</td>\n",
       "      <td>1</td>\n",
       "    </tr>\n",
       "    <tr>\n",
       "      <th>37963</th>\n",
       "      <td>3</td>\n",
       "      <td>3</td>\n",
       "    </tr>\n",
       "    <tr>\n",
       "      <th>33357</th>\n",
       "      <td>1</td>\n",
       "      <td>1</td>\n",
       "    </tr>\n",
       "  </tbody>\n",
       "</table>\n",
       "</div>"
      ],
      "text/plain": [
       "       y_test  y_pred\n",
       "29117       1       1\n",
       "36528       1       3\n",
       "13873       2       1\n",
       "20999       3       3\n",
       "24410       4       1\n",
       "75003       1       1\n",
       "1331        1       1\n",
       "49451       3       3\n",
       "33777       3       3\n",
       "63257       3       3\n",
       "39972       3       3\n",
       "39581       3       3\n",
       "30324       3       3\n",
       "35181       1       1\n",
       "55225       3       3\n",
       "58083       3       3\n",
       "13814       3       3\n",
       "7081        2       1\n",
       "37963       3       3\n",
       "33357       1       1"
      ]
     },
     "execution_count": 30,
     "metadata": {},
     "output_type": "execute_result"
    }
   ],
   "source": [
    "pred_results = pd.DataFrame({'y_test': y_test,\n",
    "                             'y_pred': y_pred})\n",
    "\n",
    "pred_results.sample(20)"
   ]
  },
  {
   "cell_type": "code",
   "execution_count": 36,
   "id": "251a9656",
   "metadata": {},
   "outputs": [],
   "source": [
    "def summarize_classification(y_test, \n",
    "                             y_pred, \n",
    "                             avg_method='weighted'):\n",
    "    \n",
    "    acc = accuracy_score(y_test, y_pred,normalize=True)\n",
    "    num_acc = accuracy_score(y_test, y_pred,normalize=False)\n",
    "\n",
    "    prec = precision_score(y_test, y_pred, average='weighted')\n",
    "    recall = recall_score(y_test, y_pred, average='weighted')\n",
    "    \n",
    "    print(\"Test data count: \",len(y_test))\n",
    "    print(\"accuracy_count : \" , num_acc)\n",
    "    print(\"accuracy_score : \" , acc)\n",
    "    print(\"precision_score : \" , prec)\n",
    "    print(\"recall_score : \", recall)"
   ]
  },
  {
   "cell_type": "code",
   "execution_count": 37,
   "id": "a48832b2",
   "metadata": {},
   "outputs": [
    {
     "name": "stdout",
     "output_type": "stream",
     "text": [
      "Test data count:  10187\n",
      "accuracy_count :  9151\n",
      "accuracy_score :  0.8983017571414548\n",
      "precision_score :  0.8916624179437335\n",
      "recall_score :  0.8983017571414548\n"
     ]
    }
   ],
   "source": [
    "summarize_classification(y_test, y_pred)"
   ]
  },
  {
   "cell_type": "code",
   "execution_count": 38,
   "id": "3bceffec",
   "metadata": {},
   "outputs": [
    {
     "name": "stdout",
     "output_type": "stream",
     "text": [
      "              precision    recall  f1-score   support\n",
      "\n",
      "     class 1       0.76      0.95      0.84      2900\n",
      "     class 2       0.69      0.31      0.43       868\n",
      "     class 3       0.99      1.00      1.00      6116\n",
      "     class 4       0.67      0.03      0.05       303\n",
      "\n",
      "    accuracy                           0.90     10187\n",
      "   macro avg       0.78      0.57      0.58     10187\n",
      "weighted avg       0.89      0.90      0.88     10187\n",
      "\n"
     ]
    }
   ],
   "source": [
    "from sklearn.metrics import classification_report\n",
    "\n",
    "target_names = ['class 1', 'class 2', 'class 3', 'class 4']\n",
    "print(classification_report(y_test, y_pred, target_names=target_names))"
   ]
  },
  {
   "cell_type": "markdown",
   "id": "41c857d7",
   "metadata": {},
   "source": [
    "### Area under the curve"
   ]
  },
  {
   "cell_type": "code",
   "execution_count": 39,
   "id": "8119a192",
   "metadata": {},
   "outputs": [
    {
     "data": {
      "text/plain": [
       "0.941740066887255"
      ]
     },
     "execution_count": 39,
     "metadata": {},
     "output_type": "execute_result"
    }
   ],
   "source": [
    "auc = roc_auc_score(y_test, logistic_model.predict_proba(x_test), multi_class='ovr')\n",
    "auc"
   ]
  },
  {
   "cell_type": "markdown",
   "id": "383040c2",
   "metadata": {},
   "source": [
    "### ROC\n",
    "Receiver Operating Characteristic(ROC) curve is a plot of the true positive rate against the false positive rate. It shows the tradeoff between sensitivity and specificity."
   ]
  },
  {
   "cell_type": "code",
   "execution_count": 40,
   "id": "c732efc9",
   "metadata": {},
   "outputs": [
    {
     "data": {
      "image/png": "[encoded data removed]",
      "text/plain": [
       "<Figure size 432x288 with 1 Axes>"
      ]
     },
     "metadata": {
      "needs_background": "light"
     },
     "output_type": "display_data"
    }
   ],
   "source": [
    "# fit model\n",
    "clf = OneVsRestClassifier(logistic_model)\n",
    "clf.fit(x_train, y_train)\n",
    "pred = clf.predict(x_test)\n",
    "pred_prob = clf.predict_proba(x_test)\n",
    "\n",
    "# roc curve for classes\n",
    "fpr = {}\n",
    "tpr = {}\n",
    "thresh ={}\n",
    "\n",
    "n_class = 4\n",
    "\n",
    "for i in range(n_class):    \n",
    "    fpr[i], tpr[i], thresh[i] = roc_curve(y_test, pred_prob[:,i], pos_label=i)\n",
    "    \n",
    "# plotting    \n",
    "plt.plot(fpr[0], tpr[0], linestyle='--',color='orange', label='Class 0 vs Rest')\n",
    "plt.plot(fpr[1], tpr[1], linestyle='--',color='green', label='Class 1 vs Rest')\n",
    "plt.plot(fpr[2], tpr[2], linestyle='--',color='blue', label='Class 2 vs Rest')\n",
    "plt.plot(fpr[3], tpr[3], linestyle='--',color='red', label='Class 3 vs Rest')\n",
    "plt.title('Multiclass ROC curve')\n",
    "plt.xlabel('False Positive Rate')\n",
    "plt.ylabel('True Positive rate')\n",
    "plt.legend(loc='best')\n",
    "plt.savefig('Multiclass ROC',dpi=300); "
   ]
  },
  {
   "cell_type": "markdown",
   "id": "54e1ec3b",
   "metadata": {},
   "source": [
    "### KNN model"
   ]
  },
  {
   "cell_type": "code",
   "execution_count": 41,
   "id": "642f7bf5",
   "metadata": {},
   "outputs": [
    {
     "data": {
      "text/plain": [
       "KNeighborsClassifier()"
      ]
     },
     "execution_count": 41,
     "metadata": {},
     "output_type": "execute_result"
    }
   ],
   "source": [
    "knn = KNeighborsClassifier()\n",
    "knn.fit(x_train,y_train)"
   ]
  },
  {
   "cell_type": "code",
   "execution_count": 42,
   "id": "2bdee2a6",
   "metadata": {},
   "outputs": [],
   "source": [
    "y_pred = knn.predict(x_test)"
   ]
  },
  {
   "cell_type": "code",
   "execution_count": 43,
   "id": "d8f3c1e4",
   "metadata": {},
   "outputs": [
    {
     "data": {
      "text/plain": [
       "0.9243852157266971"
      ]
     },
     "execution_count": 43,
     "metadata": {},
     "output_type": "execute_result"
    }
   ],
   "source": [
    "knn.score(x_train,y_train)"
   ]
  },
  {
   "cell_type": "code",
   "execution_count": 44,
   "id": "d4d4efe5",
   "metadata": {},
   "outputs": [
    {
     "data": {
      "text/plain": [
       "0.8957494846372828"
      ]
     },
     "execution_count": 44,
     "metadata": {},
     "output_type": "execute_result"
    }
   ],
   "source": [
    "knn.score(x_test, y_test)"
   ]
  },
  {
   "cell_type": "code",
   "execution_count": 45,
   "id": "eac3b2b7",
   "metadata": {},
   "outputs": [
    {
     "name": "stdout",
     "output_type": "stream",
     "text": [
      "The accuracy score is :  0.8957494846372828\n"
     ]
    }
   ],
   "source": [
    "print(\"The accuracy score is : \", accuracy_score(y_test,y_pred))"
   ]
  },
  {
   "cell_type": "code",
   "execution_count": 46,
   "id": "ae914e87",
   "metadata": {},
   "outputs": [],
   "source": [
    "# param_grid = { 'algorithm' : ['ball_tree', 'kd_tree', 'brute'],\n",
    "#                'leaf_size' : [18,20,25,27,30,32,34],\n",
    "#                'n_neighbors' : [3,5,7,9,10,11,12,13]\n",
    "#               }\n",
    "# gridsearch = GridSearchCV(knn, param_grid,verbose=3)\n",
    "# gridsearch.fit(x_train,y_train)"
   ]
  },
  {
   "cell_type": "code",
   "execution_count": 47,
   "id": "43ac38cc",
   "metadata": {},
   "outputs": [],
   "source": [
    "# gridsearch.best_params_"
   ]
  },
  {
   "cell_type": "code",
   "execution_count": 48,
   "id": "5819a3df",
   "metadata": {},
   "outputs": [
    {
     "data": {
      "text/plain": [
       "KNeighborsClassifier(algorithm='ball_tree', leaf_size=18, n_neighbors=3)"
      ]
     },
     "execution_count": 48,
     "metadata": {},
     "output_type": "execute_result"
    }
   ],
   "source": [
    "knn = KNeighborsClassifier(algorithm = 'ball_tree', leaf_size =18, n_neighbors =3)\n",
    "knn.fit(x_train, y_train)"
   ]
  },
  {
   "cell_type": "code",
   "execution_count": 49,
   "id": "23739bbd",
   "metadata": {},
   "outputs": [
    {
     "data": {
      "text/plain": [
       "0.9491238403769695"
      ]
     },
     "execution_count": 49,
     "metadata": {},
     "output_type": "execute_result"
    }
   ],
   "source": [
    "knn.score(x_train,y_train)"
   ]
  },
  {
   "cell_type": "code",
   "execution_count": 50,
   "id": "002d8872",
   "metadata": {},
   "outputs": [
    {
     "data": {
      "text/plain": [
       "0.9099833120643958"
      ]
     },
     "execution_count": 50,
     "metadata": {},
     "output_type": "execute_result"
    }
   ],
   "source": [
    "knn.score(x_test,y_test)"
   ]
  },
  {
   "cell_type": "markdown",
   "id": "d60f8d52",
   "metadata": {},
   "source": [
    "### k-fold cross validation on KNN "
   ]
  },
  {
   "cell_type": "code",
   "execution_count": 51,
   "id": "5cdddc83",
   "metadata": {},
   "outputs": [],
   "source": [
    "scalar = StandardScaler()\n",
    "X_scaled = scalar.fit_transform(x)"
   ]
  },
  {
   "cell_type": "code",
   "execution_count": 52,
   "id": "13a6a549",
   "metadata": {},
   "outputs": [
    {
     "data": {
      "text/plain": [
       "12"
      ]
     },
     "execution_count": 52,
     "metadata": {},
     "output_type": "execute_result"
    }
   ],
   "source": [
    "kfold = KFold(n_splits=12)\n",
    "kfold.get_n_splits(X_scaled)"
   ]
  },
  {
   "cell_type": "code",
   "execution_count": 53,
   "id": "5b3315f4",
   "metadata": {},
   "outputs": [
    {
     "name": "stdout",
     "output_type": "stream",
     "text": [
      "for k =  1\n",
      "train_score is :   0.9895690541466758 and test score is :   0.9276796230859835\n",
      "for k =  2\n",
      "train_score is :   0.9889050719671008 and test score is :   0.9613663133097762\n",
      "for k =  3\n",
      "train_score is :   0.9882410897875257 and test score is :   0.9684334511189635\n",
      "for k =  4\n",
      "train_score is :   0.9887979780671693 and test score is :   0.9550058892815076\n",
      "for k =  5\n",
      "train_score is :   0.9878341329677861 and test score is :   0.9780918727915194\n",
      "for k =  6\n",
      "train_score is :   0.9883698515710339 and test score is :   0.9333176248821866\n",
      "for k =  7\n",
      "train_score is :   0.9884769431771938 and test score is :   0.9432139491046183\n",
      "for k =  8\n",
      "train_score is :   0.9887767996744415 and test score is :   0.9787935909519322\n",
      "for k =  9\n",
      "train_score is :   0.9885411981408897 and test score is :   0.956880301602262\n",
      "for k =  10\n",
      "train_score is :   0.9896763691661847 and test score is :   0.9469839773798303\n",
      "for k =  11\n",
      "train_score is :   0.9903617554456082 and test score is :   0.9413289349670122\n",
      "for k =  12\n",
      "train_score is :   0.9901475722332883 and test score is :   0.8904335532516494\n",
      "************************************************\n",
      "************************************************\n",
      "Average train score is :   0.9889748180287414\n",
      "Average test score is :   0.9484607568106035\n"
     ]
    }
   ],
   "source": [
    "from statistics import mean\n",
    "knn = KNeighborsClassifier(algorithm = 'ball_tree', leaf_size =18, n_neighbors =3)\n",
    "cnt =0\n",
    "count=[]\n",
    "train_score =[]\n",
    "test_score = []\n",
    "\n",
    "for train_index,test_index in kfold.split(X_scaled):\n",
    "    X_train, X_test = X_scaled[train_index], X_scaled[test_index] # our scaled data is an array so it can work on x[value]\n",
    "    y_train, y_test = y.iloc[train_index], y.iloc[test_index] # y is a dataframe so we have to use \"iloc\" to retreive data\n",
    "    knn.fit(X_train,y_train)\n",
    "    train_score_ = knn.score(X_train,y_train)\n",
    "    test_score_ =  knn.score(X_test,y_test)\n",
    "    cnt+=1\n",
    "    count.append(cnt)\n",
    "    train_score.append(train_score_)\n",
    "    test_score.append(test_score_)\n",
    "    \n",
    "    print(\"for k = \", cnt)\n",
    "    print(\"train_score is :  \", train_score_, \"and test score is :  \", test_score_)\n",
    "print(\"************************************************\")\n",
    "print(\"************************************************\")\n",
    "print(\"Average train score is :  \", mean(train_score))\n",
    "print(\"Average test score is :  \", mean(test_score))"
   ]
  },
  {
   "cell_type": "markdown",
   "id": "dd68bbef",
   "metadata": {},
   "source": [
    "### Decision Tree model"
   ]
  },
  {
   "cell_type": "code",
   "execution_count": 65,
   "id": "a3384549",
   "metadata": {},
   "outputs": [],
   "source": [
    "dtc = DecisionTreeClassifier(random_state=42)"
   ]
  },
  {
   "cell_type": "code",
   "execution_count": 66,
   "id": "b89fa77f",
   "metadata": {},
   "outputs": [
    {
     "data": {
      "text/plain": [
       "DecisionTreeClassifier(random_state=42)"
      ]
     },
     "execution_count": 66,
     "metadata": {},
     "output_type": "execute_result"
    }
   ],
   "source": [
    "dtc.fit(x_train,y_train)"
   ]
  },
  {
   "cell_type": "code",
   "execution_count": 67,
   "id": "d8ccece8",
   "metadata": {},
   "outputs": [
    {
     "data": {
      "text/plain": [
       "1.0"
      ]
     },
     "execution_count": 67,
     "metadata": {},
     "output_type": "execute_result"
    }
   ],
   "source": [
    "dtc.score(x_train, y_train)"
   ]
  },
  {
   "cell_type": "code",
   "execution_count": 68,
   "id": "9462e56a",
   "metadata": {},
   "outputs": [
    {
     "data": {
      "text/plain": [
       "0.9833120643957985"
      ]
     },
     "execution_count": 68,
     "metadata": {},
     "output_type": "execute_result"
    }
   ],
   "source": [
    "dtc.score(x_test,y_test)"
   ]
  },
  {
   "cell_type": "code",
   "execution_count": 69,
   "id": "4cb1a9fe",
   "metadata": {},
   "outputs": [],
   "source": [
    "y_pred = dtc.predict(x_test)"
   ]
  },
  {
   "cell_type": "code",
   "execution_count": 70,
   "id": "45a093d6",
   "metadata": {},
   "outputs": [],
   "source": [
    "\n",
    "# grid_param = {\n",
    "#     'criterion': ['gini', 'entropy'],\n",
    "#     'max_depth' : range(2,32,1),\n",
    "#     'min_samples_leaf' : range(1,10,1),\n",
    "#     'min_samples_split': range(2,10,1),\n",
    "#     'splitter' : ['best', 'random']\n",
    "    \n",
    "# }"
   ]
  },
  {
   "cell_type": "code",
   "execution_count": 71,
   "id": "ef26cff9",
   "metadata": {},
   "outputs": [],
   "source": [
    "# grid_search = GridSearchCV(estimator=dtc,\n",
    "#                      param_grid=grid_param,\n",
    "#                      cv=5,\n",
    "#                     n_jobs =-1)"
   ]
  },
  {
   "cell_type": "code",
   "execution_count": 72,
   "id": "53d2940f",
   "metadata": {},
   "outputs": [],
   "source": [
    "# grid_search.fit(x_train,y_train)"
   ]
  },
  {
   "cell_type": "code",
   "execution_count": 73,
   "id": "d7eef4e6",
   "metadata": {},
   "outputs": [],
   "source": [
    "# best_parameters = grid_search.best_params_\n",
    "# best_parameters"
   ]
  },
  {
   "cell_type": "code",
   "execution_count": 74,
   "id": "d67e29d4",
   "metadata": {},
   "outputs": [
    {
     "data": {
      "text/plain": [
       "DecisionTreeClassifier(criterion='entropy', max_depth=17, min_samples_split=3)"
      ]
     },
     "execution_count": 74,
     "metadata": {},
     "output_type": "execute_result"
    }
   ],
   "source": [
    "dtc_model = DecisionTreeClassifier(criterion = 'entropy', max_depth =17, min_samples_leaf= 1, min_samples_split= 3, splitter ='best')\n",
    "dtc_model.fit(x_train,y_train)"
   ]
  },
  {
   "cell_type": "code",
   "execution_count": 75,
   "id": "1e34be47",
   "metadata": {},
   "outputs": [
    {
     "data": {
      "text/plain": [
       "0.9852753509374693"
      ]
     },
     "execution_count": 75,
     "metadata": {},
     "output_type": "execute_result"
    }
   ],
   "source": [
    "dtc_model.score(x_test,y_test)"
   ]
  },
  {
   "cell_type": "code",
   "execution_count": 80,
   "id": "9179e3b3",
   "metadata": {},
   "outputs": [
    {
     "name": "stdout",
     "output_type": "stream",
     "text": [
      "              precision    recall  f1-score   support\n",
      "\n",
      "     class 1       0.98      0.98      0.98      2900\n",
      "     class 2       0.96      0.96      0.96       868\n",
      "     class 3       1.00      1.00      1.00      6116\n",
      "     class 4       0.80      0.80      0.80       303\n",
      "\n",
      "    accuracy                           0.98     10187\n",
      "   macro avg       0.93      0.93      0.93     10187\n",
      "weighted avg       0.98      0.98      0.98     10187\n",
      "\n"
     ]
    }
   ],
   "source": [
    "target_names = ['class 1', 'class 2', 'class 3', 'class 4']\n",
    "print(classification_report(y_test, dtc.predict(x_test), target_names=target_names))"
   ]
  },
  {
   "cell_type": "code",
   "execution_count": 79,
   "id": "92ee17d7",
   "metadata": {},
   "outputs": [
    {
     "data": {
      "text/plain": [
       "0.969983771229194"
      ]
     },
     "execution_count": 79,
     "metadata": {},
     "output_type": "execute_result"
    }
   ],
   "source": [
    "roc_auc_score(y_test, dtc_model.predict_proba(x_test), multi_class='ovr')"
   ]
  },
  {
   "cell_type": "markdown",
   "id": "c79bb66b",
   "metadata": {},
   "source": [
    "### Random forest model"
   ]
  },
  {
   "cell_type": "code",
   "execution_count": 81,
   "id": "bf95a1ed",
   "metadata": {},
   "outputs": [
    {
     "data": {
      "text/plain": [
       "RandomForestClassifier(random_state=6)"
      ]
     },
     "execution_count": 81,
     "metadata": {},
     "output_type": "execute_result"
    }
   ],
   "source": [
    "rand_clf = RandomForestClassifier(random_state=6)\n",
    "rand_clf.fit(x_train, y_train)"
   ]
  },
  {
   "cell_type": "code",
   "execution_count": 82,
   "id": "6d647766",
   "metadata": {},
   "outputs": [
    {
     "data": {
      "text/plain": [
       "0.9999754577136406"
      ]
     },
     "execution_count": 82,
     "metadata": {},
     "output_type": "execute_result"
    }
   ],
   "source": [
    "rand_clf.score(x_train, y_train)"
   ]
  },
  {
   "cell_type": "code",
   "execution_count": 83,
   "id": "2757b810",
   "metadata": {},
   "outputs": [
    {
     "data": {
      "text/plain": [
       "0.9912633748895652"
      ]
     },
     "execution_count": 83,
     "metadata": {},
     "output_type": "execute_result"
    }
   ],
   "source": [
    "rand_clf.score(x_test, y_test)"
   ]
  },
  {
   "cell_type": "code",
   "execution_count": 84,
   "id": "1e4c0816",
   "metadata": {},
   "outputs": [],
   "source": [
    "# grid_param = {\n",
    "#     \"n_estimators\" : [90,100,115,130],\n",
    "#     'criterion': ['gini', 'entropy'],\n",
    "#     'max_depth' : range(2,20,1),\n",
    "#     'min_samples_leaf' : range(1,10,1),\n",
    "#     'min_samples_split': range(2,10,1),\n",
    "#     'max_features' : ['auto','log2']\n",
    "# }\n",
    "# grid_search = GridSearchCV(estimator=rand_clf,param_grid=grid_param,cv=5,n_jobs =-1,verbose = 3)\n",
    "# grid_search.fit(x_train,y_train)"
   ]
  },
  {
   "cell_type": "code",
   "execution_count": 86,
   "id": "f4e1a8db",
   "metadata": {},
   "outputs": [
    {
     "data": {
      "text/plain": [
       "0.9986966213469451"
      ]
     },
     "execution_count": 86,
     "metadata": {},
     "output_type": "execute_result"
    }
   ],
   "source": [
    "roc_auc_score(y_test, rand_clf.predict_proba(x_test), multi_class='ovr')"
   ]
  },
  {
   "cell_type": "code",
   "execution_count": 87,
   "id": "21ae7e82",
   "metadata": {},
   "outputs": [
    {
     "name": "stdout",
     "output_type": "stream",
     "text": [
      "              precision    recall  f1-score   support\n",
      "\n",
      "     class 1       0.98      0.98      0.98      2900\n",
      "     class 2       0.96      0.96      0.96       868\n",
      "     class 3       1.00      1.00      1.00      6116\n",
      "     class 4       0.80      0.80      0.80       303\n",
      "\n",
      "    accuracy                           0.98     10187\n",
      "   macro avg       0.93      0.93      0.93     10187\n",
      "weighted avg       0.98      0.98      0.98     10187\n",
      "\n"
     ]
    }
   ],
   "source": [
    "from sklearn.metrics import classification_report\n",
    "\n",
    "target_names = ['class 1', 'class 2', 'class 3', 'class 4']\n",
    "print(classification_report(y_test, y_pred, target_names=target_names))"
   ]
  },
  {
   "cell_type": "markdown",
   "id": "082773d5",
   "metadata": {},
   "source": [
    "### SVC model"
   ]
  },
  {
   "cell_type": "code",
   "execution_count": 101,
   "id": "d627ca37",
   "metadata": {},
   "outputs": [
    {
     "data": {
      "text/plain": [
       "SVC(probability=True)"
      ]
     },
     "execution_count": 101,
     "metadata": {},
     "output_type": "execute_result"
    }
   ],
   "source": [
    "svc = SVC(probability=True)\n",
    "svc.fit(x_train,y_train)"
   ]
  },
  {
   "cell_type": "code",
   "execution_count": 102,
   "id": "8cd59951",
   "metadata": {},
   "outputs": [
    {
     "data": {
      "text/plain": [
       "0.6003730244429174"
      ]
     },
     "execution_count": 102,
     "metadata": {},
     "output_type": "execute_result"
    }
   ],
   "source": [
    "svc.score(x_test, y_test)"
   ]
  },
  {
   "cell_type": "code",
   "execution_count": 103,
   "id": "0d825681",
   "metadata": {},
   "outputs": [],
   "source": [
    "y_pred = svc.predict(x_test)"
   ]
  },
  {
   "cell_type": "code",
   "execution_count": 104,
   "id": "a0c8afec",
   "metadata": {},
   "outputs": [
    {
     "data": {
      "text/plain": [
       "0.9074842173997746"
      ]
     },
     "execution_count": 104,
     "metadata": {},
     "output_type": "execute_result"
    }
   ],
   "source": [
    "roc_auc_score(y_test, svc.predict_proba(x_test), multi_class='ovr')"
   ]
  },
  {
   "cell_type": "code",
   "execution_count": 92,
   "id": "f75a1220",
   "metadata": {},
   "outputs": [
    {
     "name": "stdout",
     "output_type": "stream",
     "text": [
      "              precision    recall  f1-score   support\n",
      "\n",
      "     class 1       0.98      0.98      0.98      2900\n",
      "     class 2       0.96      0.96      0.96       868\n",
      "     class 3       1.00      1.00      1.00      6116\n",
      "     class 4       0.80      0.80      0.80       303\n",
      "\n",
      "    accuracy                           0.98     10187\n",
      "   macro avg       0.93      0.93      0.93     10187\n",
      "weighted avg       0.98      0.98      0.98     10187\n",
      "\n"
     ]
    }
   ],
   "source": [
    "target_names = ['class 1', 'class 2', 'class 3', 'class 4']\n",
    "print(classification_report(y_test, y_pred, target_names=target_names))"
   ]
  },
  {
   "cell_type": "markdown",
   "id": "6890c206",
   "metadata": {},
   "source": [
    "### Compare models:"
   ]
  },
  {
   "cell_type": "code",
   "execution_count": 94,
   "id": "4f2f1757",
   "metadata": {},
   "outputs": [
    {
     "name": "stdout",
     "output_type": "stream",
     "text": [
      "Logistic Regression 0.8983017571414548\n",
      "KNN Classifier 0.6003730244429174\n",
      "Decision Tree 0.9833120643957985\n",
      "Random Forest Classifier 0.9912633748895652\n",
      "Support Vector Classifier 0.6003730244429174\n"
     ]
    }
   ],
   "source": [
    "def compare_model():\n",
    "    print(\"Logistic Regression\", logistic_model.score(x_test, y_test))\n",
    "    print(\"KNN Classifier\", knn.score(x_test, y_test))\n",
    "    print(\"Decision Tree\", dtc.score(x_test,y_test))\n",
    "    print(\"Random Forest Classifier\", rand_clf.score(x_test, y_test))\n",
    "    print(\"Support Vector Classifier\", svc.score(x_test, y_test))\n",
    "    \n",
    "    \n",
    "compare_model()    "
   ]
  },
  {
   "cell_type": "code",
   "execution_count": 95,
   "id": "94deb8e3",
   "metadata": {},
   "outputs": [
    {
     "data": {
      "image/png": "[encoded data removed]",
      "text/plain": [
       "<Figure size 432x288 with 1 Axes>"
      ]
     },
     "metadata": {
      "needs_background": "light"
     },
     "output_type": "display_data"
    }
   ],
   "source": [
    "# fit model\n",
    "clf = OneVsRestClassifier(rand_clf)\n",
    "clf.fit(x_train, y_train)\n",
    "pred = clf.predict(x_test)\n",
    "pred_prob = clf.predict_proba(x_test)\n",
    "\n",
    "# roc curve for classes\n",
    "fpr = {}\n",
    "tpr = {}\n",
    "thresh ={}\n",
    "\n",
    "n_class = 4\n",
    "\n",
    "for i in range(n_class):    \n",
    "    fpr[i], tpr[i], thresh[i] = roc_curve(y_test, pred_prob[:,i], pos_label=i)\n",
    "    \n",
    "# plotting    \n",
    "plt.plot(fpr[0], tpr[0], linestyle='--',color='orange', label='Class 0 vs Rest')\n",
    "plt.plot(fpr[1], tpr[1], linestyle='--',color='green', label='Class 1 vs Rest')\n",
    "plt.plot(fpr[2], tpr[2], linestyle='--',color='blue', label='Class 2 vs Rest')\n",
    "plt.plot(fpr[3], tpr[3], linestyle='--',color='red', label='Class 3 vs Rest')\n",
    "plt.title('Multiclass ROC curve')\n",
    "plt.xlabel('False Positive Rate')\n",
    "plt.ylabel('True Positive rate')\n",
    "plt.legend(loc='best')\n",
    "plt.savefig('Multiclass ROC',dpi=300); "
   ]
  },
  {
   "cell_type": "code",
   "execution_count": 99,
   "id": "2982bc6b",
   "metadata": {},
   "outputs": [],
   "source": [
    "import pickle\n",
    "with open('RandomForestClassifier.sav', 'wb') as f:\n",
    "    pickle.dump(rand_clf,f)"
   ]
  },
  {
   "cell_type": "code",
   "execution_count": null,
   "id": "9a6abdd4",
   "metadata": {},
   "outputs": [],
   "source": []
  },
  {
   "cell_type": "code",
   "execution_count": null,
   "id": "3291a305",
   "metadata": {},
   "outputs": [],
   "source": []
  },
  {
   "cell_type": "code",
   "execution_count": null,
   "id": "ca0f1da7",
   "metadata": {},
   "outputs": [],
   "source": []
  },
  {
   "cell_type": "code",
   "execution_count": null,
   "id": "4406d4a3",
   "metadata": {},
   "outputs": [],
   "source": []
  }
 ],
 "metadata": {
  "kernelspec": {
   "display_name": "Python 3.8.5 64-bit ('base': conda)",
   "language": "python",
   "name": "python385jvsc74a57bd07f08da103b272066c6a645e5d2fbd7593b7a1335b0330921d647e47b2dc25e03"
  },
  "language_info": {
   "codemirror_mode": {
    "name": "ipython",
    "version": 3
   },
   "file_extension": ".py",
   "mimetype": "text/x-python",
   "name": "python",
   "nbconvert_exporter": "python",
   "pygments_lexer": "ipython3",
   "version": "3.8.5"
  }
 },
 "nbformat": 4,
 "nbformat_minor": 5
}
